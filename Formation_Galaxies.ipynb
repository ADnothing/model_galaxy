{
 "cells": [
  {
   "cell_type": "code",
   "execution_count": 1,
   "metadata": {},
   "outputs": [],
   "source": [
    "import numpy as np\n",
    "import math\n",
    "from astropy import constants as c\n",
    "from astropy import units as u"
   ]
  },
  {
   "cell_type": "code",
   "execution_count": 2,
   "metadata": {},
   "outputs": [],
   "source": [
    "kb = c.k_B #constante de Boltzmann J/K\n",
    "G = c.G #constante de gravitation universelle m3/(kg s2)\n",
    "Ms = c.M_sun #masse soleil kg"
   ]
  },
  {
   "cell_type": "code",
   "execution_count": 3,
   "metadata": {},
   "outputs": [],
   "source": [
    "n = (10**5)*u.m**-3 #densité particulaire m-3\n",
    "T=100*u.K #température K\n",
    "mu=(0.75*1.673540941*10**(-27)+0.25*6.646476406*10**(-27))*u.kg  #masse de particules k"
   ]
  },
  {
   "cell_type": "code",
   "execution_count": 4,
   "metadata": {},
   "outputs": [
    {
     "name": "stdout",
     "output_type": "stream",
     "text": [
      "Masse de Jeans : 3.139085e+34 kg\n",
      "Rayon de Jeans : 95.63 pc\n",
      "tinfall : 0.11097 Gyr\n"
     ]
    }
   ],
   "source": [
    "RJ=np.sqrt((9*kb*T)/(8*math.pi*G*mu**2*n))#rayon de jeans\n",
    "MJ=3/2*(kb*T*RJ)/(G*mu) #masse de jeans\n",
    "tinfall=np.sqrt(RJ**3/(MJ*G)) #temps de chute\n",
    "\n",
    "print(\"Masse de Jeans : {:.7}\".format(MJ.to(u.kg)))\n",
    "print(\"Rayon de Jeans : {:.4}\".format(RJ.to(u.pc)))\n",
    "print(\"tinfall : {:.5}\".format(tinfall.to(u.Gyr)))"
   ]
  }
 ],
 "metadata": {
  "kernelspec": {
   "display_name": "Python 3",
   "language": "python",
   "name": "python3"
  },
  "language_info": {
   "codemirror_mode": {
    "name": "ipython",
    "version": 3
   },
   "file_extension": ".py",
   "mimetype": "text/x-python",
   "name": "python",
   "nbconvert_exporter": "python",
   "pygments_lexer": "ipython3",
   "version": "3.8.5"
  }
 },
 "nbformat": 4,
 "nbformat_minor": 4
}
